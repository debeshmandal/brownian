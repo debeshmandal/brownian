{
 "cells": [
  {
   "cell_type": "code",
   "execution_count": 2,
   "metadata": {},
   "outputs": [],
   "source": [
    "import numpy as np\n",
    "import pandas as pd\n",
    "import matplotlib.pyplot as plt\n",
    "from hydrogels.theory.models.integrator import Simulation, Equation\n"
   ]
  },
  {
   "cell_type": "code",
   "execution_count": 8,
   "metadata": {},
   "outputs": [
    {
     "name": "stdout",
     "output_type": "stream",
     "text": [
      "\n",
      "simu.variables: {'N': 10000, 'R': None, 'V': None, 'k': None}\n",
      "\n",
      "simu.constants: {'nV': 1.0, 'KV': 10.0, 'c0': 0.01, 'beta': 1.0, 'K': 10.0, 'rc': 40.0, 'dt': 0.01}\n",
      "\n",
      "simu.inputs: {'nV': 1.0, 'KV': 10.0, 'c0': 0.01, 'beta': 1.0, 'K': 10.0, 'rc': 40.0, 'dt': 0.01, 'N': 10000, 'R': None, 'V': None, 'k': None}\n",
      "\n",
      "simu.equations: [radius := Radius from number of particles and density, potential := Harmonic potential with cutoff, rate := rate from potential, concentratin and rate of encounter, number := New number from old number and rate]\n",
      "\n",
      "simu.history.meta: {'constants': {'nV': 1.0, 'KV': 10.0, 'c0': 0.01, 'beta': 1.0, 'K': 10.0, 'rc': 40.0, 'dt': 0.01}, 'equations': ['radius := Radius from number of particles and density', 'potential := Harmonic potential with cutoff', 'rate := rate from potential, concentratin and rate of encounter', 'number := New number from old number and rate']}\n",
      "\n",
      "simu.history.dataframe:\n",
      "       N     R     V     k    t\n",
      "0  10000  None  None  None  0.0\n"
     ]
    }
   ],
   "source": [
    "def radius(N: int = 0, nV: float = 1.0) -> 'R':\n",
    "    \"\"\"Radius from number of particles and density\"\"\"\n",
    "    return ((3/4*np.pi)*N*nV) ** (1./3.)\n",
    "\n",
    "def potential(R: float = 0, K: float = 1.0, rc: float = 10.) -> 'V':\n",
    "    \"\"\"Harmonic potential with cutoff\"\"\"\n",
    "    if R == 0:\n",
    "        return 0.\n",
    "    elif R > rc:\n",
    "        return 0.\n",
    "    else:\n",
    "        return K * R ** -2\n",
    "    \n",
    "def rate(V: float = 0.0, beta: float = 1.0, KV: float = 1.0, c0: float = 1.0) -> 'k':\n",
    "    \"\"\"rate from potential, concentratin and rate of encounter\"\"\"\n",
    "    return KV * c0 * np.exp(beta * V)\n",
    "\n",
    "def number(N: int = 0, k: float = 1.0, dt: float = 1.0) -> 'N':\n",
    "    \"\"\"New number from old number and rate\"\"\"\n",
    "    return int(N - k*dt)\n",
    "\n",
    "equations = [Equation(i, string=i.__doc__) for i in [radius, potential, rate, number]]\n",
    "simu = Simulation(\n",
    "    0.01,\n",
    "    variables = {\n",
    "        'N' : 10000,\n",
    "        'R' : None,\n",
    "        'V' : None,\n",
    "        'k' : None\n",
    "    },\n",
    "    constants = {\n",
    "        'nV' : 1.0,\n",
    "        'KV' : 10.,\n",
    "        'c0' : 0.01,\n",
    "        'beta' : 1.0,\n",
    "        'K' : 10.0,\n",
    "        'rc' : 40.0\n",
    "    },\n",
    "    equations = equations\n",
    ")\n",
    "print(f'\\nsimu.variables: {simu.variables}')\n",
    "print(f'\\nsimu.constants: {simu.constants}')\n",
    "print(f'\\nsimu.inputs: {simu.inputs}')\n",
    "print(f'\\nsimu.equations: {simu.equations}')\n",
    "print(f'\\nsimu.history.meta: {simu.history.meta}')\n",
    "print(f'\\nsimu.history.dataframe:\\n{simu.history.dataframe}')\n",
    "None"
   ]
  },
  {
   "cell_type": "code",
   "execution_count": 9,
   "metadata": {},
   "outputs": [
    {
     "name": "stdout",
     "output_type": "stream",
     "text": [
      "\n",
      "simu.history.dataframe:\n",
      "           N          R         V          k       t\n",
      "0      10000        NaN       NaN        NaN    0.00\n",
      "1       9999  28.668417  0.012167   0.101224    0.01\n",
      "2       9998  28.667461  0.012168   0.101224    0.02\n",
      "3       9997  28.666506  0.012169   0.101224    0.03\n",
      "4       9996  28.665550  0.012170   0.101224    0.04\n",
      "...      ...        ...       ...        ...     ...\n",
      "9996       4   2.275414  1.931431   0.689938   99.96\n",
      "9997       3   2.112307  2.241227   0.940487   99.97\n",
      "9998       2   1.919158  2.715054   1.510542   99.98\n",
      "9999       1   1.676539  3.557727   3.508335   99.99\n",
      "10000      0   1.330670  5.647539  28.359270  100.00\n",
      "\n",
      "[10001 rows x 5 columns]\n"
     ]
    }
   ],
   "source": [
    "simu.run(10000)\n",
    "print(f'\\nsimu.history.dataframe:\\n{simu.history.dataframe}')"
   ]
  },
  {
   "cell_type": "code",
   "execution_count": 10,
   "metadata": {},
   "outputs": [
    {
     "data": {
      "image/png": "[encoded data removed]",
      "text/plain": [
       "<Figure size 432x288 with 1 Axes>"
      ]
     },
     "metadata": {
      "needs_background": "light"
     },
     "output_type": "display_data"
    }
   ],
   "source": [
    "plt.plot(simu.history.dataframe['t'], simu.history.dataframe['k'], 'k-')\n",
    "plt.xlabel('t')\n",
    "plt.ylabel('k')\n",
    "None"
   ]
  },
  {
   "cell_type": "code",
   "execution_count": 40,
   "metadata": {},
   "outputs": [
    {
     "data": {
      "text/plain": [
       "{'N': int, 'nV': float, 'return': 'R'}"
      ]
     },
     "execution_count": 40,
     "metadata": {},
     "output_type": "execute_result"
    }
   ],
   "source": [
    "radius.__annotations__"
   ]
  },
  {
   "cell_type": "code",
   "execution_count": null,
   "metadata": {},
   "outputs": [],
   "source": []
  }
 ],
 "metadata": {
  "kernelspec": {
   "display_name": "Python 3",
   "language": "python",
   "name": "python3"
  },
  "language_info": {
   "codemirror_mode": {
    "name": "ipython",
    "version": 3
   },
   "file_extension": ".py",
   "mimetype": "text/x-python",
   "name": "python",
   "nbconvert_exporter": "python",
   "pygments_lexer": "ipython3",
   "version": "3.8.8"
  }
 },
 "nbformat": 4,
 "nbformat_minor": 4
}
