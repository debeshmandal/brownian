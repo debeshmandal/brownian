{
 "cells": [
  {
   "cell_type": "markdown",
   "metadata": {},
   "source": [
    "# Enzymatic Diffusion-influenced degradation of hydrogels\n",
    "\n",
    "\n",
    "$$\\frac{dc_{A*}}{dt} = K c_{B}$$\n",
    "\n",
    "\n",
    "The overall rate is proportional to the harmonic mean of the rate of encounter and the rate of formation.\n",
    "\n",
    "$$ k_{T}^{-1} = k_{e}^{-1} + k_{f}^{-1}$$\n",
    "\n",
    "\n"
   ]
  },
  {
   "cell_type": "code",
   "execution_count": 1,
   "metadata": {},
   "outputs": [],
   "source": [
    "import numpy as np\n",
    "import pandas as pd\n",
    "import matplotlib.pyplot as plt"
   ]
  },
  {
   "cell_type": "code",
   "execution_count": 2,
   "metadata": {
    "scrolled": true
   },
   "outputs": [
    {
     "data": {
      "image/png": "[encoded data removed]",
      "text/plain": [
       "<Figure size 432x288 with 1 Axes>"
      ]
     },
     "metadata": {
      "needs_background": "light"
     },
     "output_type": "display_data"
    }
   ],
   "source": [
    "def harmonic_mean(rates):\n",
    "    return 1. / np.sum(1./np.array(rates))\n",
    "\n",
    "log_range = np.arange(-3.0, 3.0, 0.25)\n",
    "\n",
    "data = {\n",
    "    'k_e' : [],\n",
    "    'k_f' : [],\n",
    "    'k_T' : []\n",
    "}\n",
    "\n",
    "for i in log_range:\n",
    "    k_e = 1.2 * 10 ** i\n",
    "    for j in log_range:\n",
    "        k_f = 0.8 * 10 ** j\n",
    "        data['k_e'].append(k_e)\n",
    "        data['k_f'].append(k_f)\n",
    "        data['k_T'].append(harmonic_mean([k_e, k_f]))\n",
    "\n",
    "df = pd.DataFrame(data)\n",
    "#print(df)\n",
    "\n",
    "fig, ax = plt.subplots()\n",
    "ax.plot(df['k_e'].values/df['k_f'].values, df['k_T'].values/df['k_f'].values, 'k.')\n",
    "ax.plot(ax.get_xlim(), (1, 1), 'b:')\n",
    "ax.plot(ax.get_xlim(), (0, 0), 'r:')\n",
    "ax.set_xlabel(r\"$k_e/k_f$\", fontsize='xx-large')\n",
    "ax.set_ylabel(r\"$k_T/k_f$\", fontsize='xx-large')\n",
    "ax.set_xscale('log')\n",
    "#ax.set_yscale('log')"
   ]
  },
  {
   "cell_type": "markdown",
   "metadata": {},
   "source": [
    "The graph above shows that as the value of one of the rates increases or decreases far beyond the value of the other, the rate that is LOWER controls the total rate of reaction. So if the rate of formation $k_f$ (also referred to as the reaction rate $k_R$ in our notes) is much lower then the reaction is known as being a rate-limited reaction. If the opposite is true and the rate of encounter $k_e$ (also referred to by $k_V$ in our notes) is much lower, then this is known as a diffusion-limited reaction. In between these values, the reaction is known as diffusion influenced and both the rate of encounter and the rate of formation contribute in non-negligble amounts to the overall rate. From our graph above, we can see that this ratio is between 1-2 orders of magnitude."
   ]
  },
  {
   "cell_type": "code",
   "execution_count": null,
   "metadata": {},
   "outputs": [],
   "source": []
  }
 ],
 "metadata": {
  "kernelspec": {
   "display_name": "Python 3",
   "language": "python",
   "name": "python3"
  },
  "language_info": {
   "codemirror_mode": {
    "name": "ipython",
    "version": 3
   },
   "file_extension": ".py",
   "mimetype": "text/x-python",
   "name": "python",
   "nbconvert_exporter": "python",
   "pygments_lexer": "ipython3",
   "version": "3.7.7"
  }
 },
 "nbformat": 4,
 "nbformat_minor": 4
}
