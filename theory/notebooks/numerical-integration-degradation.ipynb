{
 "cells": [
  {
   "cell_type": "markdown",
   "metadata": {},
   "source": [
    "# Numerical solution to enzymatic degradation of a gel with electrostatic potential\n",
    "\n",
    "From the notes we have the following equations:\n",
    "1. $$ Q_{shell}(t) = 4\\pi\\sigma \\big(R(t)\\big)^2 $$\n",
    "\n",
    "2. $$ V_{DH}(r, t)= \\begin{cases}\n",
    "    \\infty \\quad for\\hspace{0.5em}r < R(t),\\\\\n",
    "    \\frac{Q_{shell}(t)}{4\\epsilon_0 \\epsilon_r}\\frac{1}{r-R(t)}\\frac{1}{1+\\frac{\\lambda}{R(t)}}\\cdot e^{-\\frac{r-R(t)}{\\lambda}}\\quad&otherwise.\n",
    "    \\end{cases}$$\n",
    "    \n",
    "3. $$\\exp{-\\beta U(R, t)} = \\exp{-q_{E}V_{DH}(R, t)}$$\n",
    "\n",
    "4. $$k_R(t) = K_Vc^o_{bulk}\\exp{-\\beta U(R, t)}$$\n",
    "\n",
    "5. $$R(t+\\Delta t) = R(t) -  \\Delta R (t) \\\\\n",
    "= R(t) - \\frac{k_R(t)}{4\\pi R(t)^2n_V} \\cdot \\Delta t$$"
   ]
  },
  {
   "cell_type": "code",
   "execution_count": null,
   "metadata": {},
   "outputs": [],
   "source": []
  }
 ],
 "metadata": {
  "kernelspec": {
   "display_name": "Python 3",
   "language": "python",
   "name": "python3"
  },
  "language_info": {
   "codemirror_mode": {
    "name": "ipython",
    "version": 3
   },
   "file_extension": ".py",
   "mimetype": "text/x-python",
   "name": "python",
   "nbconvert_exporter": "python",
   "pygments_lexer": "ipython3",
   "version": "3.7.7"
  }
 },
 "nbformat": 4,
 "nbformat_minor": 4
}
